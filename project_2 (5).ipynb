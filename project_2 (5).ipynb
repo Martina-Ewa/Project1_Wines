{
 "cells": [
  {
   "cell_type": "markdown",
   "id": "fb6157e3-d863-4c64-8968-c3fb2cd0eb21",
   "metadata": {
    "tags": []
   },
   "source": [
    "# Analysis and Clustering of Spanish Wines"
   ]
  },
  {
   "cell_type": "markdown",
   "id": "a52b5374-1449-4865-8249-5caa564fbe82",
   "metadata": {},
   "source": [
    "A beautiful country located on the Iberian Peninsula- Spain is worldly known for its wineries and excellent wines. In this project, I applied Data Analysis, visualizations tools, and a Clustering Model to better understand the wine story that began thousands of years ago."
   ]
  },
  {
   "cell_type": "markdown",
   "id": "8486cce7-1368-4f61-a279-a7ce769351b3",
   "metadata": {},
   "source": [
    "The dataset includes 7500 entries on wines from all around Spain. We have acces to such variables like winery, wine, year, number of reviews, region, price, type, body and acidity."
   ]
  },
  {
   "cell_type": "markdown",
   "id": "e4350009-302d-4741-b8fe-9d5d597658f4",
   "metadata": {},
   "source": [
    "In this Data Science project, I want to investigate correlations between the variables and build a Clustering Model that allows for grouping wines based on individual characteristics."
   ]
  },
  {
   "cell_type": "markdown",
   "id": "eb6ed6d0-163c-4bba-a431-35ca594eee43",
   "metadata": {},
   "source": [
    "## Preliminary Data Analysis"
   ]
  },
  {
   "cell_type": "code",
   "execution_count": 238,
   "id": "99067086-d0db-41ee-8e70-e6e1e1647ab4",
   "metadata": {},
   "outputs": [],
   "source": [
    "import pandas as pd\n",
    "import numpy as np\n",
    "import seaborn as sns\n",
    "import matplotlib.pyplot as plt"
   ]
  },
  {
   "cell_type": "code",
   "execution_count": 239,
   "id": "68469eff-6372-4262-96d5-8fb218a95c41",
   "metadata": {
    "tags": []
   },
   "outputs": [],
   "source": [
    "wines = pd.read_csv(\"wines_SPA.csv\")"
   ]
  },
  {
   "cell_type": "code",
   "execution_count": 240,
   "id": "4eeafef7-5f46-49fe-971e-9499730d0992",
   "metadata": {
    "tags": []
   },
   "outputs": [
    {
     "data": {
      "text/html": [
       "<div>\n",
       "<style scoped>\n",
       "    .dataframe tbody tr th:only-of-type {\n",
       "        vertical-align: middle;\n",
       "    }\n",
       "\n",
       "    .dataframe tbody tr th {\n",
       "        vertical-align: top;\n",
       "    }\n",
       "\n",
       "    .dataframe thead th {\n",
       "        text-align: right;\n",
       "    }\n",
       "</style>\n",
       "<table border=\"1\" class=\"dataframe\">\n",
       "  <thead>\n",
       "    <tr style=\"text-align: right;\">\n",
       "      <th></th>\n",
       "      <th>winery</th>\n",
       "      <th>wine</th>\n",
       "      <th>year</th>\n",
       "      <th>rating</th>\n",
       "      <th>num_reviews</th>\n",
       "      <th>country</th>\n",
       "      <th>region</th>\n",
       "      <th>price</th>\n",
       "      <th>type</th>\n",
       "      <th>body</th>\n",
       "      <th>acidity</th>\n",
       "    </tr>\n",
       "  </thead>\n",
       "  <tbody>\n",
       "    <tr>\n",
       "      <th>0</th>\n",
       "      <td>Teso La Monja</td>\n",
       "      <td>Tinto</td>\n",
       "      <td>2013</td>\n",
       "      <td>4.9</td>\n",
       "      <td>58</td>\n",
       "      <td>Espana</td>\n",
       "      <td>Toro</td>\n",
       "      <td>995.00</td>\n",
       "      <td>Toro Red</td>\n",
       "      <td>5.0</td>\n",
       "      <td>3.0</td>\n",
       "    </tr>\n",
       "    <tr>\n",
       "      <th>1</th>\n",
       "      <td>Artadi</td>\n",
       "      <td>Vina El Pison</td>\n",
       "      <td>2018</td>\n",
       "      <td>4.9</td>\n",
       "      <td>31</td>\n",
       "      <td>Espana</td>\n",
       "      <td>Vino de Espana</td>\n",
       "      <td>313.50</td>\n",
       "      <td>Tempranillo</td>\n",
       "      <td>4.0</td>\n",
       "      <td>2.0</td>\n",
       "    </tr>\n",
       "    <tr>\n",
       "      <th>2</th>\n",
       "      <td>Vega Sicilia</td>\n",
       "      <td>Unico</td>\n",
       "      <td>2009</td>\n",
       "      <td>4.8</td>\n",
       "      <td>1793</td>\n",
       "      <td>Espana</td>\n",
       "      <td>Ribera del Duero</td>\n",
       "      <td>324.95</td>\n",
       "      <td>Ribera Del Duero Red</td>\n",
       "      <td>5.0</td>\n",
       "      <td>3.0</td>\n",
       "    </tr>\n",
       "    <tr>\n",
       "      <th>3</th>\n",
       "      <td>Vega Sicilia</td>\n",
       "      <td>Unico</td>\n",
       "      <td>1999</td>\n",
       "      <td>4.8</td>\n",
       "      <td>1705</td>\n",
       "      <td>Espana</td>\n",
       "      <td>Ribera del Duero</td>\n",
       "      <td>692.96</td>\n",
       "      <td>Ribera Del Duero Red</td>\n",
       "      <td>5.0</td>\n",
       "      <td>3.0</td>\n",
       "    </tr>\n",
       "    <tr>\n",
       "      <th>4</th>\n",
       "      <td>Vega Sicilia</td>\n",
       "      <td>Unico</td>\n",
       "      <td>1996</td>\n",
       "      <td>4.8</td>\n",
       "      <td>1309</td>\n",
       "      <td>Espana</td>\n",
       "      <td>Ribera del Duero</td>\n",
       "      <td>778.06</td>\n",
       "      <td>Ribera Del Duero Red</td>\n",
       "      <td>5.0</td>\n",
       "      <td>3.0</td>\n",
       "    </tr>\n",
       "    <tr>\n",
       "      <th>...</th>\n",
       "      <td>...</td>\n",
       "      <td>...</td>\n",
       "      <td>...</td>\n",
       "      <td>...</td>\n",
       "      <td>...</td>\n",
       "      <td>...</td>\n",
       "      <td>...</td>\n",
       "      <td>...</td>\n",
       "      <td>...</td>\n",
       "      <td>...</td>\n",
       "      <td>...</td>\n",
       "    </tr>\n",
       "    <tr>\n",
       "      <th>7495</th>\n",
       "      <td>Contino</td>\n",
       "      <td>Reserva</td>\n",
       "      <td>2016</td>\n",
       "      <td>4.2</td>\n",
       "      <td>392</td>\n",
       "      <td>Espana</td>\n",
       "      <td>Rioja</td>\n",
       "      <td>19.98</td>\n",
       "      <td>Rioja Red</td>\n",
       "      <td>4.0</td>\n",
       "      <td>3.0</td>\n",
       "    </tr>\n",
       "    <tr>\n",
       "      <th>7496</th>\n",
       "      <td>Conreria d'Scala Dei</td>\n",
       "      <td>Les Brugueres</td>\n",
       "      <td>2018</td>\n",
       "      <td>4.2</td>\n",
       "      <td>390</td>\n",
       "      <td>Espana</td>\n",
       "      <td>Priorato</td>\n",
       "      <td>16.76</td>\n",
       "      <td>Priorat Red</td>\n",
       "      <td>4.0</td>\n",
       "      <td>3.0</td>\n",
       "    </tr>\n",
       "    <tr>\n",
       "      <th>7497</th>\n",
       "      <td>Mustiguillo</td>\n",
       "      <td>Finca Terrerazo</td>\n",
       "      <td>2017</td>\n",
       "      <td>4.2</td>\n",
       "      <td>390</td>\n",
       "      <td>Espana</td>\n",
       "      <td>El Terrerazo</td>\n",
       "      <td>24.45</td>\n",
       "      <td>Red</td>\n",
       "      <td>4.0</td>\n",
       "      <td>3.0</td>\n",
       "    </tr>\n",
       "    <tr>\n",
       "      <th>7498</th>\n",
       "      <td>Matarromera</td>\n",
       "      <td>Gran Reserva</td>\n",
       "      <td>2011</td>\n",
       "      <td>4.2</td>\n",
       "      <td>389</td>\n",
       "      <td>Espana</td>\n",
       "      <td>Ribera del Duero</td>\n",
       "      <td>64.50</td>\n",
       "      <td>Ribera Del Duero Red</td>\n",
       "      <td>5.0</td>\n",
       "      <td>3.0</td>\n",
       "    </tr>\n",
       "    <tr>\n",
       "      <th>7499</th>\n",
       "      <td>Sei Solo</td>\n",
       "      <td>Preludio</td>\n",
       "      <td>2016</td>\n",
       "      <td>4.2</td>\n",
       "      <td>388</td>\n",
       "      <td>Espana</td>\n",
       "      <td>Ribera del Duero</td>\n",
       "      <td>31.63</td>\n",
       "      <td>Ribera Del Duero Red</td>\n",
       "      <td>5.0</td>\n",
       "      <td>3.0</td>\n",
       "    </tr>\n",
       "  </tbody>\n",
       "</table>\n",
       "<p>7500 rows × 11 columns</p>\n",
       "</div>"
      ],
      "text/plain": [
       "                    winery             wine  year  rating  num_reviews  \\\n",
       "0            Teso La Monja            Tinto  2013     4.9           58   \n",
       "1                   Artadi    Vina El Pison  2018     4.9           31   \n",
       "2             Vega Sicilia            Unico  2009     4.8         1793   \n",
       "3             Vega Sicilia            Unico  1999     4.8         1705   \n",
       "4             Vega Sicilia            Unico  1996     4.8         1309   \n",
       "...                    ...              ...   ...     ...          ...   \n",
       "7495               Contino          Reserva  2016     4.2          392   \n",
       "7496  Conreria d'Scala Dei    Les Brugueres  2018     4.2          390   \n",
       "7497           Mustiguillo  Finca Terrerazo  2017     4.2          390   \n",
       "7498           Matarromera     Gran Reserva  2011     4.2          389   \n",
       "7499              Sei Solo         Preludio  2016     4.2          388   \n",
       "\n",
       "     country            region   price                  type  body  acidity  \n",
       "0     Espana              Toro  995.00              Toro Red   5.0      3.0  \n",
       "1     Espana    Vino de Espana  313.50           Tempranillo   4.0      2.0  \n",
       "2     Espana  Ribera del Duero  324.95  Ribera Del Duero Red   5.0      3.0  \n",
       "3     Espana  Ribera del Duero  692.96  Ribera Del Duero Red   5.0      3.0  \n",
       "4     Espana  Ribera del Duero  778.06  Ribera Del Duero Red   5.0      3.0  \n",
       "...      ...               ...     ...                   ...   ...      ...  \n",
       "7495  Espana             Rioja   19.98             Rioja Red   4.0      3.0  \n",
       "7496  Espana          Priorato   16.76           Priorat Red   4.0      3.0  \n",
       "7497  Espana      El Terrerazo   24.45                   Red   4.0      3.0  \n",
       "7498  Espana  Ribera del Duero   64.50  Ribera Del Duero Red   5.0      3.0  \n",
       "7499  Espana  Ribera del Duero   31.63  Ribera Del Duero Red   5.0      3.0  \n",
       "\n",
       "[7500 rows x 11 columns]"
      ]
     },
     "execution_count": 240,
     "metadata": {},
     "output_type": "execute_result"
    }
   ],
   "source": [
    " wines"
   ]
  },
  {
   "cell_type": "code",
   "execution_count": 241,
   "id": "70486cae-8f02-4ac8-ac8e-11fc43495652",
   "metadata": {
    "tags": []
   },
   "outputs": [
    {
     "name": "stdout",
     "output_type": "stream",
     "text": [
      "             Missing Count  Missing Percentage Data Type\n",
      "winery                   0            0.000000    object\n",
      "wine                     0            0.000000    object\n",
      "rating                   0            0.000000   float64\n",
      "num_reviews              0            0.000000     int64\n",
      "country                  0            0.000000    object\n",
      "region                   0            0.000000    object\n",
      "price                    0            0.000000   float64\n",
      "year                     2            0.026667    object\n",
      "type                   545            7.266667    object\n",
      "body                  1169           15.586667   float64\n",
      "acidity               1169           15.586667   float64\n"
     ]
    }
   ],
   "source": [
    "missing_count=wines.isnull().sum()\n",
    "missing_percentage = (missing_count / len(wines)) * 100\n",
    "column_type= wines.dtypes\n",
    "unique_data=wines.nunique()\n",
    "\n",
    "missing_data = pd.DataFrame({'Missing Count': missing_count, 'Missing Percentage': missing_percentage, \"Data Type\" : column_type}).sort_values(by='Missing Count', ascending=True)\n",
    "\n",
    "print(missing_data)"
   ]
  },
  {
   "cell_type": "code",
   "execution_count": 242,
   "id": "048e15e4-49e6-475a-ba87-fcac474291bd",
   "metadata": {
    "tags": []
   },
   "outputs": [
    {
     "data": {
      "text/plain": [
       "winery          480\n",
       "wine            847\n",
       "year             71\n",
       "rating            8\n",
       "num_reviews     817\n",
       "country           1\n",
       "region           76\n",
       "price          1292\n",
       "type             21\n",
       "body              4\n",
       "acidity           3\n",
       "dtype: int64"
      ]
     },
     "execution_count": 242,
     "metadata": {},
     "output_type": "execute_result"
    }
   ],
   "source": [
    "wines.nunique()"
   ]
  },
  {
   "cell_type": "markdown",
   "id": "3f342b3f-a5dd-48c9-b697-175c444c2447",
   "metadata": {},
   "source": [
    "**Data Visualizations**"
   ]
  },
  {
   "cell_type": "code",
   "execution_count": 243,
   "id": "4cfda636-8018-47e8-953a-b17d4d45448a",
   "metadata": {
    "tags": []
   },
   "outputs": [
    {
     "data": {
      "image/png": "[encoded data removed]",
      "text/plain": [
       "<Figure size 800x400 with 1 Axes>"
      ]
     },
     "metadata": {},
     "output_type": "display_data"
    }
   ],
   "source": [
    "plt.figure(figsize=(8, 4))\n",
    "sns.heatmap(wines.isnull(), cbar=False, cmap='viridis')\n",
    "\n",
    "plt.title('Missing Values Heatmap')\n",
    "plt.show()"
   ]
  },
  {
   "cell_type": "code",
   "execution_count": null,
   "id": "2eb5e443-e34a-4899-8586-eea668395952",
   "metadata": {
    "tags": []
   },
   "outputs": [
    {
     "data": {
      "text/plain": [
       "<seaborn.axisgrid.PairGrid at 0x7f787f531db0>"
      ]
     },
     "execution_count": 244,
     "metadata": {},
     "output_type": "execute_result"
    }
   ],
   "source": [
    "sns.pairplot(wines, hue=\"rating\", palette='Blues')"
   ]
  },
  {
   "cell_type": "code",
   "execution_count": null,
   "id": "9358f5e3-5c6c-42c9-b449-75fb04174ee4",
   "metadata": {
    "tags": []
   },
   "outputs": [],
   "source": [
    "plt.figure(figsize=(6,4))\n",
    "sns.heatmap(wines.corr(numeric_only=True),annot=True, cmap='Blues', fmt='.1f')\n",
    "plt.title('Correlation Heatmap')\n"
   ]
  },
  {
   "cell_type": "code",
   "execution_count": null,
   "id": "00e68a8d-936b-4215-91e6-8b3e1ea84b10",
   "metadata": {
    "tags": []
   },
   "outputs": [],
   "source": [
    "features = [\"rating\", \"num_reviews\"]\n",
    "wines[features].hist(figsize=(10, 4));"
   ]
  },
  {
   "cell_type": "code",
   "execution_count": null,
   "id": "3cdd99ce-3bfc-4409-93df-5ec1da2c3120",
   "metadata": {
    "tags": []
   },
   "outputs": [],
   "source": [
    "count_acid = wines['acidity'].value_counts()\n",
    "plt.figure(figsize=(8, 4))\n",
    "plt.plot(count_acid.index, count_acid.values)\n",
    "plt.xlabel('Acidity')\n",
    "plt.ylabel('Count')\n",
    "plt.title(f'Acidity Distribution')\n",
    "plt.show()"
   ]
  },
  {
   "cell_type": "code",
   "execution_count": null,
   "id": "571c8641-33d9-4d3d-b5ab-06ff71d09788",
   "metadata": {
    "tags": []
   },
   "outputs": [],
   "source": [
    "body_counts = wines['body'].value_counts()\n",
    "\n",
    "\n",
    "plt.figure(figsize=(6, 2))\n",
    "sns.barplot(x=body_counts.index, y=body_counts,palette='Blues_d' )\n",
    "plt.xlabel('Body')\n",
    "plt.ylabel('Count')\n",
    "plt.title(f'Body Distribution')\n",
    "plt.show()"
   ]
  },
  {
   "cell_type": "code",
   "execution_count": null,
   "id": "5a6fd4de-ee3f-47a9-a420-86d531cb8232",
   "metadata": {
    "tags": []
   },
   "outputs": [],
   "source": [
    "\n",
    "top_n = 10 \n",
    "top_n_wines = wines['region'].value_counts().head(top_n)\n",
    "top_n_wines_perc= 100* top_n_wines /len(wines)\n",
    "\n",
    "plt.figure(figsize=(8, 5))\n",
    "sns.barplot(x=top_n_wines_perc.index, y=top_n_wines_perc, palette='Blues_d')\n",
    "plt.xlabel('Wine type')\n",
    "plt.ylabel('Percentage of recipients %')\n",
    "plt.title(f'Top {top_n} most popular wine regions')\n",
    "plt.xticks(rotation=45, ha='right')\n",
    "plt.show()"
   ]
  },
  {
   "cell_type": "code",
   "execution_count": null,
   "id": "f35695fd-19b9-4dd9-9693-2610ed153209",
   "metadata": {
    "tags": []
   },
   "outputs": [],
   "source": [
    "\n",
    "top_n = 10 \n",
    "top_n_wines = wines['type'].value_counts().head(top_n)\n",
    "top_n_wines_perc= 100* top_n_wines /len(wines)\n",
    "\n",
    "plt.figure(figsize=(8, 5))\n",
    "plt.pie(x=top_n_wines_perc, labels=top_n_wines_perc.index, autopct='%1.1f%%', startangle=140, colors=sns.color_palette('Blues'))\n",
    "plt.xlabel('Wine type')\n",
    "plt.title(f'Top {top_n} most popular wine types')\n",
    "plt.xticks(rotation=45, ha='right')\n",
    "plt.subplots_adjust(left=0.1, right=0.9, top=0.9, bottom=0.1, hspace=0.5, wspace=0.2)\n",
    "\n",
    "plt.show()"
   ]
  },
  {
   "cell_type": "code",
   "execution_count": null,
   "id": "36da1d15-6ab1-44e9-88ab-72ff42728050",
   "metadata": {
    "tags": []
   },
   "outputs": [],
   "source": [
    "top_n = 25\n",
    "\n",
    "top_n_wineries = wines['winery'].value_counts().head(top_n)\n",
    "top_n_wineries = top_n_wineries.sort_values()\n",
    "\n",
    "plt.figure(figsize=(10, 7))\n",
    "sns.barplot(x=top_n_wineries, y=top_n_wineries.index, palette='Blues')  # Swap x and y\n",
    "plt.xlabel('Count')\n",
    "plt.ylabel('winery')\n",
    "plt.title(f'Top {top_n} Wineries')\n",
    "\n",
    "plt.show()\n"
   ]
  },
  {
   "cell_type": "code",
   "execution_count": null,
   "id": "66ef6913-aa0c-43f3-87f4-e6592af88ebe",
   "metadata": {
    "tags": []
   },
   "outputs": [],
   "source": [
    "#Price Distribution in the top wineries\n",
    "top_n = 15\n",
    "\n",
    "top_n_wineries = wines['winery'].value_counts().head(top_n)\n",
    "sns.boxplot(x=wines['winery'], y=wines['price'], order=top_n_wineries.index, palette='Blues')\n",
    "plt.xticks(rotation=45, ha='right')\n",
    "\n",
    "plt.xlabel('Winery')\n",
    "plt.ylabel('Price')\n",
    "plt.title(f'Top {top_n} Wineries and Their Prices')\n",
    "plt.show()\n"
   ]
  },
  {
   "cell_type": "code",
   "execution_count": null,
   "id": "f6272a0c-f1db-4a55-a54c-4c9b4b4cb5ce",
   "metadata": {
    "tags": []
   },
   "outputs": [],
   "source": [
    "plt.figure(figsize=(6,4))\n",
    "plt.scatter(wines['body'], wines['price']);\n",
    "plt.xlabel('body')\n",
    "plt.ylabel('Priice (€)')\n",
    "plt.title('Correlation of Body and Price (€))')"
   ]
  },
  {
   "cell_type": "code",
   "execution_count": null,
   "id": "d8c26aa7-c613-4e19-b812-fe2d0ab9d288",
   "metadata": {
    "tags": []
   },
   "outputs": [],
   "source": [
    "sns.boxplot(x=wines['rating'],y= wines['price'], palette='Blues')\n",
    "plt.title('Correlation of Rating and Price(€)')"
   ]
  },
  {
   "cell_type": "code",
   "execution_count": null,
   "id": "b1cf02a7-71e3-40a7-8f7e-de107226c4b6",
   "metadata": {
    "tags": []
   },
   "outputs": [],
   "source": [
    "plt.figure(figsize=(6,4))\n",
    "plt.scatter(wines['body'], wines['acidity']);\n",
    "plt.xlabel('Body')\n",
    "plt.ylabel('Acidity')\n",
    "plt.title(\"Correlation between Body and Acidity\")"
   ]
  },
  {
   "cell_type": "code",
   "execution_count": null,
   "id": "95e578ad-1349-4f0b-b480-6b9dd62a8c4e",
   "metadata": {
    "tags": []
   },
   "outputs": [],
   "source": [
    "bins = [1980, 1985, 1990, 1995, 2000, 2005, 2010, 2015, 2020]\n",
    "wines['year'] = pd.to_numeric(wines['year'], errors='coerce')\n",
    "\n",
    "wines['year_bins'] = pd.cut(wines['year'], bins=bins, labels=[f'{start}-{start+4}' for start in bins[:-1]])\n",
    "count_acid = wines['year_bins'].value_counts().sort_index()  \n",
    "plt.figure(figsize=(6, 4))\n",
    "plt.plot(count_acid.index.astype(str), count_acid.values, marker='o')  \n",
    "plt.xlabel('Year')\n",
    "plt.ylabel('Count')\n",
    "plt.title('Wine production (1980-2020)')\n",
    "plt.xticks(rotation=45)\n",
    "plt.show()\n"
   ]
  },
  {
   "cell_type": "code",
   "execution_count": null,
   "id": "9128a264-6de6-4a9c-b044-af098041b260",
   "metadata": {
    "tags": []
   },
   "outputs": [],
   "source": [
    "wines_2010_2020 = wines[wines['year'].between(2010,2020)]\n",
    "\n",
    "count_year = wines_2010_2020['year'].value_counts().sort_index()\n",
    "\n",
    "plt.figure(figsize=(6, 4))\n",
    "plt.plot(count_year.index, count_year.values, marker='o')  \n",
    "plt.xlabel('Year')\n",
    "plt.ylabel('Count')\n",
    "plt.title('Wine production (2010-2020)')\n",
    "\n",
    "plt.show()"
   ]
  },
  {
   "cell_type": "code",
   "execution_count": null,
   "id": "d5561e67-55d4-49b3-83bb-e151e795d01a",
   "metadata": {},
   "outputs": [],
   "source": [
    "#Acidity and wine type\n",
    "top_n = 15\n",
    "\n",
    "top_n_wines = wines['wine'].value_counts().head(top_n)\n",
    "sns.barplot(x=wines['wine'], y=wines['acidity'], order=top_n_wines.index, palette='Blues')\n",
    "plt.xticks(rotation=45, ha='right')\n",
    "\n",
    "plt.xlabel('Wine Type')\n",
    "plt.ylabel('Acidity')\n",
    "plt.title(f'Top {top_n} Wines and and their Acidity')\n",
    "plt.show()\n"
   ]
  },
  {
   "cell_type": "code",
   "execution_count": null,
   "id": "4e1e8fb0-6ab1-4664-8b18-b2c4fcc8e1de",
   "metadata": {
    "tags": []
   },
   "outputs": [],
   "source": [
    "wines"
   ]
  },
  {
   "cell_type": "markdown",
   "id": "3a60db65-6527-4cf8-ad37-1955665cdc5f",
   "metadata": {},
   "source": [
    "winery          480\n",
    "wine            847\n",
    "year             71\n",
    "rating            8\n",
    "num_reviews     817\n",
    "country           1\n",
    "region           76\n",
    "price          1292\n",
    "type             21\n",
    "body              4\n",
    "acidity           3"
   ]
  },
  {
   "cell_type": "markdown",
   "id": "137ac487-380d-454d-800b-33b5cdbf2e8b",
   "metadata": {},
   "source": [
    "**Clustering the Data**"
   ]
  },
  {
   "cell_type": "markdown",
   "id": "57be4c55-66a9-4437-ae4e-719ea7744c73",
   "metadata": {},
   "source": [
    "Now, we will cluster the wines based on variables: year, rating, body and acidity. The rest of the columns will be dropped"
   ]
  },
  {
   "cell_type": "code",
   "execution_count": null,
   "id": "36de7399-0dff-4eb4-ba1c-417b434d4bd9",
   "metadata": {
    "tags": []
   },
   "outputs": [],
   "source": [
    "wines.dropna(inplace=True)"
   ]
  },
  {
   "cell_type": "code",
   "execution_count": null,
   "id": "550429eb-8d92-4aee-ab7a-a7152a55703c",
   "metadata": {
    "tags": []
   },
   "outputs": [],
   "source": [
    "columns_to_drop = ['wine', 'winery', 'country', 'region', 'type', 'num_reviews', 'year_bins']\n",
    "wines_dropped=wines[columns_to_drop]\n",
    "wines_drop = wines.drop(columns=columns_to_drop)\n",
    "wines_drop"
   ]
  },
  {
   "cell_type": "code",
   "execution_count": null,
   "id": "ffddcf20-27ab-407f-a6b2-1f38d2fb273d",
   "metadata": {
    "tags": []
   },
   "outputs": [],
   "source": [
    "from sklearn.preprocessing import StandardScaler\n",
    "from sklearn.compose import make_column_transformer\n",
    "from sklearn import set_config\n",
    "\n",
    "# Output dataframes instead of arrays\n",
    "set_config(transform_output=\"pandas\")\n",
    "\n",
    "preprocessor = make_column_transformer(\n",
    "    (StandardScaler(), ['year', 'rating','price','body', 'acidity']),\n",
    "    verbose_feature_names_out=False,\n",
    ")\n",
    "preprocessor"
   ]
  },
  {
   "cell_type": "code",
   "execution_count": null,
   "id": "29cee633-f2a4-4889-8fd0-e0127979c782",
   "metadata": {
    "tags": []
   },
   "outputs": [],
   "source": [
    "wines"
   ]
  },
  {
   "cell_type": "code",
   "execution_count": null,
   "id": "9bf8e7f3-560f-4ee0-8873-5adedcc51b9f",
   "metadata": {
    "tags": []
   },
   "outputs": [],
   "source": [
    "wines_drop.dropna(inplace=True)\n"
   ]
  },
  {
   "cell_type": "code",
   "execution_count": null,
   "id": "1497beb5-e3c0-44b3-a321-b0a945338067",
   "metadata": {
    "tags": []
   },
   "outputs": [],
   "source": [
    "missing_count=wines_drop.isnull().sum()\n",
    "missing_percentage = (missing_count / len(wines)) * 100\n",
    "column_type= wines.dtypes\n",
    "unique_data=wines.nunique()\n",
    "\n",
    "missing_data = pd.DataFrame({'Missing Count': missing_count, 'Missing Percentage': missing_percentage, \"Data Type\" : column_type}).sort_values(by='Missing Count', ascending=True)\n",
    "\n",
    "print(missing_data)"
   ]
  },
  {
   "cell_type": "code",
   "execution_count": null,
   "id": "be97dd1e-de13-4a01-9d1b-96c77613fdac",
   "metadata": {
    "tags": []
   },
   "outputs": [],
   "source": []
  },
  {
   "cell_type": "code",
   "execution_count": null,
   "id": "f30c3dd3-5ff7-45c7-87f3-401903edf921",
   "metadata": {
    "tags": []
   },
   "outputs": [],
   "source": [
    "from sklearn.pipeline import make_pipeline\n",
    "from sklearn.cluster import KMeans\n",
    "\n",
    "ks = range(1, 20)\n",
    "n_init_value = 10\n",
    "\n",
    "wssds = [\n",
    "    make_pipeline(\n",
    "    \tpreprocessor,\n",
    "    \tKMeans(n_clusters=k, n_init= n_init_value )\n",
    "  # Create a new KMeans model with `k` clusters\n",
    "    ).fit(wines_drop)[1].inertia_\n",
    "    for k in ks\n",
    "]\n",
    "\n",
    "wines_clust_ks = pd.DataFrame({\n",
    "    \"k\": ks,\n",
    "    \"wssd\": wssds,\n",
    "})\n",
    "\n",
    "wines_clust_ks"
   ]
  },
  {
   "cell_type": "code",
   "execution_count": null,
   "id": "49b22f22-e900-4d37-99b1-e470bebcb86e",
   "metadata": {
    "tags": []
   },
   "outputs": [],
   "source": [
    "plt.plot(wines_clust_ks['k'], wines_clust_ks['wssd'], marker='o')\n",
    "plt.xlabel('k value')\n",
    "plt.ylabel('wssd')"
   ]
  },
  {
   "cell_type": "code",
   "execution_count": null,
   "id": "e33795af-610f-42aa-9e15-c78cc38afc65",
   "metadata": {
    "tags": []
   },
   "outputs": [],
   "source": [
    "#based on a grpah wiht set the number of clusters= 6\n",
    "num_clusters= 7\n",
    "n_init_value = 10\n",
    "\n",
    "kmeans = KMeans(n_clusters=num_clusters, n_init=n_init_value, random_state=42)\n",
    "wines_drop['cluster'] = kmeans.fit_predict(wines_drop[['year', 'rating','price','body', 'acidity']])\n",
    "wines_drop"
   ]
  },
  {
   "cell_type": "code",
   "execution_count": null,
   "id": "f472aa3a-21e6-4fcf-95c0-6e71e83bc35c",
   "metadata": {
    "tags": []
   },
   "outputs": [],
   "source": [
    "wines[\"cluster\"]= wines_drop[\"cluster\"]\n",
    "                "
   ]
  },
  {
   "cell_type": "code",
   "execution_count": null,
   "id": "69950305-5dfa-4b67-be62-3e5cee790036",
   "metadata": {
    "tags": []
   },
   "outputs": [],
   "source": [
    "plt.figure(figsize=(6,4))\n",
    "cluster_count=wines_drop['cluster'].value_counts()\n",
    "sns.barplot(x= cluster_count.index, y=cluster_count.values)\n",
    "plt.xlabel('Cluster')\n",
    "plt.ylabel('Count')\n",
    "plt.title(\"Number of wines in each cluster\")\n",
    "\n"
   ]
  },
  {
   "cell_type": "markdown",
   "id": "3adcf04c-11e8-4422-b9d0-2d4eb8093728",
   "metadata": {},
   "source": [
    "As can be noticed above, the majority of wines are within cluster 0"
   ]
  },
  {
   "cell_type": "code",
   "execution_count": null,
   "id": "07cfac88-dee2-4a72-bc01-5820ab639f6e",
   "metadata": {},
   "outputs": [],
   "source": [
    "wines.groupby('cluster').describe().T"
   ]
  },
  {
   "cell_type": "code",
   "execution_count": null,
   "id": "1bb9805b-8eb4-4bd4-aae0-d174a1ca0765",
   "metadata": {},
   "outputs": [],
   "source": []
  },
  {
   "cell_type": "code",
   "execution_count": null,
   "id": "f1dfde24-00a3-47dc-b85f-3d95f6e719e7",
   "metadata": {
    "tags": []
   },
   "outputs": [],
   "source": [
    "sns.boxplot(x=wines['cluster'],y= wines['price'], palette='Blues')\n",
    "plt.title('Distribution of price for each cluster')"
   ]
  },
  {
   "cell_type": "code",
   "execution_count": null,
   "id": "1cf41474-0177-4c0d-970c-9e8a1c84a9ab",
   "metadata": {
    "tags": []
   },
   "outputs": [],
   "source": [
    "sns.boxplot(x=wines['cluster'],y= wines['year'], palette='Blues')\n",
    "plt.title('Distribution of year for each cluster')\n"
   ]
  },
  {
   "cell_type": "code",
   "execution_count": null,
   "id": "d6aefeac-a18d-4d22-bf8d-3a142f864681",
   "metadata": {
    "tags": []
   },
   "outputs": [],
   "source": [
    "cluster_means_acid = wines.groupby('cluster')['acidity'].mean().reset_index()\n",
    "plt.figure(figsize=(6,4))\n",
    "plt.scatter(cluster_means_acid['cluster'], cluster_means_acid['acidity'], color='blue')\n",
    "plt.xlabel('Cluster')\n",
    "plt.ylabel('Mean Acidity')\n",
    "plt.title(\"Mean acidity for each each cluster\")"
   ]
  },
  {
   "cell_type": "code",
   "execution_count": null,
   "id": "00cbeb30-7e47-40d0-89d9-be0553d211a3",
   "metadata": {
    "tags": []
   },
   "outputs": [],
   "source": [
    "cluster_means_body = wines.groupby('cluster')['body'].mean().reset_index()\n",
    "plt.figure(figsize=(6,4))\n",
    "plt.scatter(cluster_means_body['cluster'], cluster_means_body['body'], color='blue')\n",
    "plt.xlabel('Cluster')\n",
    "plt.ylabel('Mean Acidity')\n",
    "plt.title(\"Mean Body for each each cluster\")"
   ]
  },
  {
   "cell_type": "code",
   "execution_count": null,
   "id": "f0d742a9-404a-4fe0-a05b-51592d81a6ed",
   "metadata": {
    "tags": []
   },
   "outputs": [],
   "source": [
    "cluster_means_rating = wines.groupby('cluster')['rating'].mean().reset_index()\n",
    "plt.figure(figsize=(6,4))\n",
    "plt.scatter(cluster_means_rating['cluster'], cluster_means_rating['rating'], color='blue')\n",
    "plt.xlabel('Cluster')\n",
    "plt.ylabel('Mean Rating')\n",
    "plt.title(\"Mean rating for each each cluster\")"
   ]
  },
  {
   "cell_type": "code",
   "execution_count": null,
   "id": "a0d83f01-6d03-42e4-bdaa-e11eedd2c3be",
   "metadata": {},
   "outputs": [],
   "source": []
  },
  {
   "cell_type": "markdown",
   "id": "db183705-cab5-4b57-b6ba-f19b14d94ec4",
   "metadata": {
    "tags": []
   },
   "source": [
    "*Price*\n",
    "\n",
    "\n",
    "We can notice that there is a high correlation between clusters and variables. Cluster 0, is characterized by the lowest average price and the highest number of wines. Cluster 3 on the other hand, has the smallest amount of wines, with the highest price point. \n"
   ]
  },
  {
   "cell_type": "markdown",
   "id": "9bc4dff5-1d38-4f91-a4c6-b40edbd2fae5",
   "metadata": {},
   "source": [
    "*Year*\n",
    "\n",
    "The wines in cluster 0 are the youngest, which correlates with low price and the highest count number."
   ]
  },
  {
   "cell_type": "markdown",
   "id": "733a1a70-3fce-48cc-b5f7-e94e28c685d1",
   "metadata": {},
   "source": [
    "*Body*\n",
    "\n",
    "Cluster 0, has the lowest average body, meaning that these wines are relatively lighter and easier to drink.\n"
   ]
  },
  {
   "cell_type": "markdown",
   "id": "930d2d02-addc-4a1b-8b36-a32ec0785e3d",
   "metadata": {},
   "source": [
    "*Rating*\n",
    "\n",
    "Interesting trend may be noticed in cluster 5, since it has wines with the highest rating, and much lower on average prices than cluster 3. "
   ]
  },
  {
   "cell_type": "code",
   "execution_count": null,
   "id": "458c215f-7b8c-4691-ae96-b1d7f7b7e66b",
   "metadata": {
    "tags": []
   },
   "outputs": [],
   "source": [
    "plt.figure(figsize=(4,2))\n",
    "wines[wines['cluster']==3].groupby('winery')['winery'].count().plot.barh()\n",
    "plt.title(\"Top wineries in cluster 3\")"
   ]
  },
  {
   "cell_type": "code",
   "execution_count": null,
   "id": "056403f9-c526-4bd6-849a-1f5cd131bd66",
   "metadata": {
    "tags": []
   },
   "outputs": [],
   "source": [
    "\n",
    "plt.figure(figsize=(4,2))\n",
    "wines[wines['cluster']==3].groupby('region')['region'].count().plot.barh()\n",
    "plt.title(\"Top regions types in cluster 3\")"
   ]
  },
  {
   "cell_type": "code",
   "execution_count": null,
   "id": "bd91d2e6-fc9c-4bd5-9682-c9ae5b2c7a8c",
   "metadata": {
    "tags": []
   },
   "outputs": [],
   "source": [
    "plt.figure(figsize=(4,2))\n",
    "wines[wines['cluster']==3].groupby('type')['type'].count().plot.barh()\n",
    "plt.title(\"Top wine types in cluster 3\")"
   ]
  },
  {
   "cell_type": "markdown",
   "id": "638d93d0-5d04-4535-a544-a51c0ed491b3",
   "metadata": {},
   "source": [
    "*type red represents a red blend"
   ]
  },
  {
   "cell_type": "markdown",
   "id": "aa6279d7-c99f-4044-a051-a021ac59f0d9",
   "metadata": {},
   "source": [
    "## Conclusions\n",
    "\n",
    "It seems that the clustering is mostly dependant on price, year and rating of wines. We got a good idea on a numbers behind the wine market in the country. More expensive wine ten to be older, have higher ratings, and these can be found in clusters 1, 3, 5. \n",
    "\n",
    "It is worth to notice, that within cluster 1, 2 and 3, wines in cluster 3 have the lowest average price, while having high ratings and old production. It may mean that these wine types and wineries are worth further exploration in the context of the market and sales."
   ]
  },
  {
   "cell_type": "markdown",
   "id": "2a1fc187-a529-4dda-a90f-eeabcfce9075",
   "metadata": {},
   "source": [
    "Citation:\n",
    "\n",
    "fedesoriano. (April 2022). Spanish Wine Quality Dataset. Retrieved [Date Retrieved] from https://www.kaggle.com/datasets/fedesoriano/spanish-wine-quality-dataset"
   ]
  }
 ],
 "metadata": {
  "kernelspec": {
   "display_name": "Python 3 (ipykernel)",
   "language": "python",
   "name": "python3"
  },
  "language_info": {
   "codemirror_mode": {
    "name": "ipython",
    "version": 3
   },
   "file_extension": ".py",
   "mimetype": "text/x-python",
   "name": "python",
   "nbconvert_exporter": "python",
   "pygments_lexer": "ipython3",
   "version": "3.10.8"
  }
 },
 "nbformat": 4,
 "nbformat_minor": 5
}
